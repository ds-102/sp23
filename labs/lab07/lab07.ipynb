{
 "cells": [
  {
   "cell_type": "code",
   "execution_count": null,
   "id": "394e9051",
   "metadata": {
    "deletable": false,
    "editable": false
   },
   "outputs": [],
   "source": [
    "# Initialize Otter\n",
    "import otter\n",
    "grader = otter.Notebook(\"lab07.ipynb\")"
   ]
  },
  {
   "cell_type": "markdown",
   "id": "dd37ac73",
   "metadata": {},
   "source": [
    "# Lab 7: Estimating Causal Effects via Instrumental Variables\n",
    "Welcome to the seventh DS102 lab! \n",
    "\n",
    "The goals of this lab is to implement and get better understanding of Instrumental Variables discussed in Lecture. IV provide us with a way to estimate a causal effect even when the treatment itself is not randomly assigned.\n",
    "\n",
    "The code you need to write is indicated by `...`\n",
    "\n",
    "## Collaboration Policy\n",
    "Data science is a collaborative activity. While you may talk with others about the labs, we ask that you **write your solutions individually**. If you do discuss the assignments with others please **include their names** in the cell below.\n",
    "\n",
    "## Submission\n",
    "See the [Gradescope Submission Guidelines](https://edstem.org/us/courses/33922/discussion/2419862) for details on how to submit your lab.\n",
    "\n",
    "**For full credit, this assignment should be completed and submitted before Wednesday, March 22nd, 2023 at 11:59 PM PDT.**"
   ]
  },
  {
   "cell_type": "markdown",
   "id": "0fabf3ba",
   "metadata": {},
   "source": [
    "## Collaborators\n",
    "Write the names of your collaborators in this cell.\n",
    "\n",
    "`<Collaborator Name> <Collaborator e-mail>`"
   ]
  },
  {
   "cell_type": "code",
   "execution_count": null,
   "id": "29340563",
   "metadata": {},
   "outputs": [],
   "source": [
    "import matplotlib.pyplot as plt\n",
    "import numpy as np\n",
    "import pandas as pd\n",
    "import statsmodels.api as sm\n",
    "import seaborn as sns\n",
    "import itertools\n",
    "from ipywidgets import interact, interactive\n",
    "\n",
    "import hashlib\n",
    "\n",
    "sns.set(style=\"dark\")\n",
    "plt.style.use(\"ggplot\")\n",
    "%matplotlib inline"
   ]
  },
  {
   "cell_type": "markdown",
   "id": "abb7198d",
   "metadata": {},
   "source": [
    "# Instrumental Variables Background\n",
    "Suppose that we measure $Z$, the number of books a student read in the last year, and we are interested in determing how $Z$ affects an observed target outcome $Y$, the student's SAT score. The effect we are interested in is **causal** because we want to know how $Y$ changes if all randomness other than $Z$ remains fixed, and only $Z$ changes. We will refer to $Z$ as the \"treatment\". In general, $Z$ might be multi-dimensional, however for the purpose of this exercise we take $Z \\in\\mathbb{R}$.\n",
    "\n",
    "Suppose there's also a confounder $X$, which is the income of the student's family. We don't observe $X$, but it affects both the number of books the student reads (wealthier families may have more access to books) and the student's SAT score (wealthier students may have more access to SAT tutoring).\n",
    "\n",
    "We assume that the outcome is generated as a linear function of the confounder $X$ and treatment $Z$, with additive noise $\\epsilon$:\n",
    "$$Y = \\beta_1 Z + \\beta_2 X + \\epsilon.$$\n",
    "\n",
    "The goal is to estimate $\\beta_1$, the true causal effect of the number of books a student reads on their SAT score."
   ]
  },
  {
   "cell_type": "markdown",
   "id": "049141a5",
   "metadata": {},
   "source": [
    "### Danger of bias\n",
    "As we saw in the [instrumental variable lecture note](http://data102.datahub.berkeley.edu/hub/user-redirect/git-sync?repo=https://github.com/ds-102/sp23&subPath=lecture/lecture17/05_instrumental_variables.ipynb), if the confounder $X$ is highly correlated with $Z$, performing ordinary least squares (OLS) on the observed data $Z$, $Y$ can lead to very biased results. Because wealthier families may have access to more books, without observing $X$ we cannot tell if correlation between $Z$ and $Y$ is due to a causal effect of reading books or is due to the higher average family income."
   ]
  },
  {
   "cell_type": "markdown",
   "id": "dbe8ba3b",
   "metadata": {},
   "source": [
    "### Instrumental variables (IVs) and two-stage least squares (2SLS)\n",
    "\n",
    "One way to get around this issue is by using **instrumental variables (IVs)**. A valid instrument $W$ is a variable which is independent of the confounder $X$, and affects $Y$ only through $Z$. For example, we can create such an instrument $W$ by employing *encouragement design*, where we randomly assign students to \"readathons\" of different durations. See the figure below for a causal diagram:\n",
    "\n",
    "<img src=\"causal_diagram.png\" width=\"400\">\n",
    "\n",
    "Using the instrumental variable $W$, we can estimate $\\beta_1$ by first \"guessing\" $Z$ from $W$ using ordinary least squares (OLS) (denoted $\\hat Z$), and then regressing $Y$ onto $\\hat Z$ (instead of $Z$) using OLS as well. This procedure is known as **two-stage least squares (2SLS)**. \n",
    "\n",
    "In this lab, we will observe the bias that can occur when naively performing OLS on the observed data $Z, Y$, and also how employing 2SLS can achieve a better estimate of $\\beta_1$."
   ]
  },
  {
   "cell_type": "markdown",
   "id": "863df7eb",
   "metadata": {},
   "source": [
    "# Model setup\n",
    "\n",
    "Suppose that we have historical data from $n=10,000$ different students. Suppose we observe the following variables: \n",
    "\n",
    "$Z^{(i)} =$ number of books the student read in the last year, \n",
    "\n",
    "$W^{(i)} = $ duration of the \"readathon\" at the student's school.\n",
    "\n",
    "$Y^{(i)} = $ the student's SAT score. \n",
    "\n",
    "Suppose that the student's family income $X^{(i)}$ affects both $Z^{(i)}$ and $Y^{(i)}$, but is **not observed**.\n",
    "\n",
    "## Data Generation\n",
    "\n",
    "The student's SAT score is linear in the number of books the student read and the student's family income:\n",
    "$$Y^{(i)} = \\beta_1 Z^{(i)} + \\beta_2 X^{(i)} + \\epsilon^{(i)}.$$ \n",
    "\n",
    "The number of books a student reads is linear in the duration of the readathon and the student's family income:\n",
    "$$Z^{(i)} = \\gamma_1 W^{(i)} + \\gamma_2 X^{(i)} + \\epsilon'^{(i)},$$\n",
    "\n",
    "### The true model was generated in the following manner:\n",
    " - Sample $W^{(i)}\\sim N(20,5)$    $\\ \\longleftarrow\\ $   *Duration of Readathon for student* $i$ \n",
    " - Sample $X^{(i)} \\sim \\text{Normal}(50, 10)$   $\\ \\longleftarrow\\ $   *Income in tens of thousands (10,000) dollars for the family of student* $i$ **(unobserved variable)**\n",
    " - Generate $Z^{(i)}$ by setting $\\gamma_1 = \\gamma_2 =1$ and sampling a noise $\\epsilon'^{(i)}\\sim N(0,5)$   $\\ \\longleftarrow\\ $  *Number of books read by student* $i$\n",
    " - Generate $Y^{(i)}$ by setting $\\beta_1 = 5$, $\\beta_2 = 12$  and sampling a noise $\\epsilon^{(i)}\\sim N(0,10)$ $\\ \\longleftarrow\\ $  *SAT score for student* $i$.\n",
    " \n",
    "**Note: The data in this lab are not observed in real life. They are instead synthetic data generated according to the procedure described above.**\n",
    "\n",
    "## Load the data\n",
    "Run the cells below to load and plot the data."
   ]
  },
  {
   "cell_type": "code",
   "execution_count": null,
   "id": "35a7c2b6",
   "metadata": {},
   "outputs": [],
   "source": [
    "# Do not modify: Just run this to load the data\n",
    "student_data = pd.read_csv(\"SAT_data.csv\")\n",
    "student_data.head()"
   ]
  },
  {
   "cell_type": "code",
   "execution_count": null,
   "id": "53d0d123",
   "metadata": {},
   "outputs": [],
   "source": [
    "# make a pairplot illustrating the pairwise correlations between different columns in the dataset\n",
    "fig = sns.pairplot(student_data,  plot_kws=dict(marker=\"o\", alpha = 0.5))\n",
    "for i, j in zip(*np.triu_indices_from(fig.axes, 1)):\n",
    "    fig.axes[i, j].set_visible(False)\n",
    "plt.show()"
   ]
  },
  {
   "cell_type": "markdown",
   "id": "d71d4eed",
   "metadata": {},
   "source": [
    "In the plot above on the main diagonal we have the histograms of each variable, and on the off-diagonals we have scatter plots illustrating the corelations between pair of variables. "
   ]
  },
  {
   "cell_type": "markdown",
   "id": "f0a24db5",
   "metadata": {},
   "source": [
    "# Question 1: Understanding the Model"
   ]
  },
  {
   "cell_type": "markdown",
   "id": "3f17688f",
   "metadata": {},
   "source": [
    "## 1.a) Correlations between variables"
   ]
  },
  {
   "cell_type": "markdown",
   "id": "32369483",
   "metadata": {},
   "source": [
    "<!-- BEGIN QUESTION -->\n",
    "\n",
    "#### 1.a.i) Just by inspecting the pairplot above rank in order from most correlated to least correlated the following pairwise relationships: \n",
    "#### Z &  X, Z &  Y, Z & W, X & Y, X & W, Y & W"
   ]
  },
  {
   "cell_type": "markdown",
   "id": "9745028e",
   "metadata": {},
   "source": [
    "_Type your answer here, replacing this text._"
   ]
  },
  {
   "cell_type": "markdown",
   "id": "52908845",
   "metadata": {},
   "source": [
    "<!-- END QUESTION -->\n",
    "\n",
    "<!-- BEGIN QUESTION -->\n",
    "\n",
    "#### 1.a.ii) Which of the above pairs appear to be independent?"
   ]
  },
  {
   "cell_type": "markdown",
   "id": "6e7c9f8b",
   "metadata": {},
   "source": [
    "_Type your answer here, replacing this text._"
   ]
  },
  {
   "cell_type": "markdown",
   "id": "a7be503c",
   "metadata": {},
   "source": [
    "<!-- END QUESTION -->\n",
    "\n",
    "## 1.b) Understanding the marginal impacts"
   ]
  },
  {
   "cell_type": "markdown",
   "id": "9087910e",
   "metadata": {},
   "source": [
    "Inspect the Data Generation section above, and answer the following questions. "
   ]
  },
  {
   "cell_type": "markdown",
   "id": "d1418d3c",
   "metadata": {},
   "source": [
    "<!-- BEGIN QUESTION -->\n",
    "\n",
    "#### 1.b.i) What is the true causal effect of an extra book read on the SAT score (i.e. if you hold everything else constant and you read one more book by how much will the SAT score change)?"
   ]
  },
  {
   "cell_type": "markdown",
   "id": "b49518f0",
   "metadata": {},
   "source": [
    "_Type your answer here, replacing this text._"
   ]
  },
  {
   "cell_type": "markdown",
   "id": "90201035",
   "metadata": {},
   "source": [
    "<!-- END QUESTION -->\n",
    "\n",
    "<!-- BEGIN QUESTION -->\n",
    "\n",
    "#### 1.b.ii) What is the true causal effect of increasing income by \\$10000 on the SAT score?"
   ]
  },
  {
   "cell_type": "markdown",
   "id": "3cde0999",
   "metadata": {},
   "source": [
    "_Type your answer here, replacing this text._"
   ]
  },
  {
   "cell_type": "markdown",
   "id": "d1871cbd",
   "metadata": {},
   "source": [
    "<!-- END QUESTION -->\n",
    "\n",
    "<!-- BEGIN QUESTION -->\n",
    "\n",
    "#### 1.b.iii) What is the true causal effect of an extra readathon day on the number of books read?"
   ]
  },
  {
   "cell_type": "markdown",
   "id": "fd180066",
   "metadata": {},
   "source": [
    "_Type your answer here, replacing this text._"
   ]
  },
  {
   "cell_type": "markdown",
   "id": "55efeb6c",
   "metadata": {},
   "source": [
    "<!-- END QUESTION -->\n",
    "\n",
    "<!-- BEGIN QUESTION -->\n",
    "\n",
    "#### 1.b.iv) What is the true causal effect of increaing income by \\$10000 on the number of books read?"
   ]
  },
  {
   "cell_type": "markdown",
   "id": "00828eee",
   "metadata": {},
   "source": [
    "_Type your answer here, replacing this text._"
   ]
  },
  {
   "cell_type": "markdown",
   "id": "ebcead3f",
   "metadata": {},
   "source": [
    "<!-- END QUESTION -->\n",
    "\n",
    "## 1.c) When are readathons a valid instrument?\n",
    "\n",
    "This lab uses synthetic data on reading instead of real data. Let's think about the conditions on readathons we would need for $W$ to be a valid instrument."
   ]
  },
  {
   "cell_type": "markdown",
   "id": "bf991bd8",
   "metadata": {},
   "source": [
    "<!-- BEGIN QUESTION -->\n",
    "\n",
    "#### 1.c.i) What must be true about the relationship between readathons and income for $W$ to be a valid instrument? Give an example of how this might be violated."
   ]
  },
  {
   "cell_type": "markdown",
   "id": "7af7b2af",
   "metadata": {},
   "source": [
    "_Type your answer here, replacing this text._"
   ]
  },
  {
   "cell_type": "markdown",
   "id": "181c5b03",
   "metadata": {},
   "source": [
    "<!-- END QUESTION -->\n",
    "\n",
    "<!-- BEGIN QUESTION -->\n",
    "\n",
    "#### 1.c.ii) What must be true about the relationship between readathons and SAT score for $W$ to be a valid instrument? Give an example of how this might be violated?"
   ]
  },
  {
   "cell_type": "markdown",
   "id": "ef2f4e53",
   "metadata": {},
   "source": [
    "_Type your answer here, replacing this text._"
   ]
  },
  {
   "cell_type": "markdown",
   "id": "fb808796",
   "metadata": {},
   "source": [
    "<!-- END QUESTION -->\n",
    "\n",
    "## Ordinary Least Squares\n",
    "If we had access to income data $X$, then we could estimate directely $\\beta_1$, $\\beta_2$, $\\gamma_1$, $\\gamma_2$ from the data by setting up a linear regression problem and finding Ordinary Least Squares estimator. \n",
    "\n",
    "$$\\hat\\beta_1, \\hat\\beta_2 = \\arg\\min_{\\beta_1, \\beta_2}\\Vert Y - \\beta_1Z - \\beta_2X \\Vert_2^2$$\n",
    "$$\\hat\\gamma_1, \\hat\\gamma_2 = \\arg\\min_{\\gamma_1, \\gamma_2}\\Vert Z - \\gamma_1W - \\gamma_2X \\Vert_2^2$$\n",
    "\n",
    "To find OLS estimators we will use [`sm.OLS`](https://www.statsmodels.org/stable/examples/notebooks/generated/ols.html?highlight=ols) from `statsmodels.api`."
   ]
  },
  {
   "cell_type": "code",
   "execution_count": null,
   "id": "82933f05",
   "metadata": {},
   "outputs": [],
   "source": [
    "# No TODOs here: Just examine the code\n",
    "def fit_OLS_model(df, target_variable, explanatory_variables, intercept = False):\n",
    "    \"\"\"\n",
    "    Fits an OLS model from data.\n",
    "    \n",
    "    Inputs:\n",
    "        df: pandas DataFrame\n",
    "        target_variable: string, name of the target variable\n",
    "        explanatory_variables: list of strings, names of the explanatory variables\n",
    "        intercept: bool, if True add intercept term\n",
    "    Outputs:\n",
    "        fitted_model: model containing OLS regression results\n",
    "    \"\"\"\n",
    "    \n",
    "    target = df[target_variable]\n",
    "    inputs = df[explanatory_variables]\n",
    "    if intercept:\n",
    "        inputs = sm.add_constant(inputs)\n",
    "    \n",
    "    fitted_model = sm.OLS(target, inputs).fit()\n",
    "    return(fitted_model)"
   ]
  },
  {
   "cell_type": "code",
   "execution_count": null,
   "id": "6230b4e7",
   "metadata": {},
   "outputs": [],
   "source": [
    "# Computing the OLS estimators for gamma_1 and gamma_2\n",
    "gammas_model = fit_OLS_model(student_data, 'NumBooks', ['ReadathonDuration', 'Income'])\n",
    "print(gammas_model.summary())"
   ]
  },
  {
   "cell_type": "code",
   "execution_count": null,
   "id": "abe5070c",
   "metadata": {},
   "outputs": [],
   "source": [
    "# Print the fitted_estimators\n",
    "gammas = gammas_model.params\n",
    "print(\"The estimated causal effect on number of books read of an additional Readathon day is {:.2f}\".format(gammas[0]))\n",
    "print(\"The estimated causal effect on number of books read of an additional $10000 is {:.2f}\".format(gammas[1]))\n",
    "# The numbers you get should be very close to you answer in 1.b"
   ]
  },
  {
   "cell_type": "markdown",
   "id": "85cb3aaf",
   "metadata": {},
   "source": [
    "## 1.d) Estimate causal effect of `NumBooks` and `Income` on the SAT Score\n",
    "\n",
    "Fill in the code below (similar as above) to estimate the causal effect of `NumBooks` and `Income` on the SAT Scores. "
   ]
  },
  {
   "cell_type": "code",
   "execution_count": null,
   "id": "79c5c8fc",
   "metadata": {
    "tags": []
   },
   "outputs": [],
   "source": [
    "# Compute OLS estimators for beta_1 and beta_2\n",
    "betas_model = ...\n",
    "print(betas_model.summary())"
   ]
  },
  {
   "cell_type": "code",
   "execution_count": null,
   "id": "2053f04e",
   "metadata": {
    "deletable": false,
    "editable": false
   },
   "outputs": [],
   "source": [
    "grader.check(\"q1d\")"
   ]
  },
  {
   "cell_type": "code",
   "execution_count": null,
   "id": "6ecf50b5",
   "metadata": {},
   "outputs": [],
   "source": [
    "# Print the fitted_estimators\n",
    "betas = betas_model.params\n",
    "print(\"The estimated causal effect on SAT score of an additional book read is {:.2f}\".format(betas['NumBooks']))\n",
    "print(\"The estimated causal effect on SAT score of an additional $10000 is {:.2f}\".format(betas['Income']))\n",
    "# The numbers you get should be very close to you answer in 1.b"
   ]
  },
  {
   "cell_type": "markdown",
   "id": "e8c2ccc4",
   "metadata": {},
   "source": [
    "## Summing up Question 1\n",
    "\n",
    "In Question 1 we saw how we can estimate all causal relationships if we have access to the income variable. But what if we **do not observe Income**?\n",
    "\n",
    "**Our Next Goal**: estimate $\\beta_1$, the true causal effect of the number of books a student reads on their SAT score *without access* to the Income variable."
   ]
  },
  {
   "cell_type": "markdown",
   "id": "7ed2147a",
   "metadata": {},
   "source": [
    "# 2. Naive OLS: OLS on the observed variables $Z$, $Y$.\n",
    "The confounding variable $X$ (family income) is unfortunately unobserved. We will start by somewhat \"naively\" attempting to estimate the causal effect $\\beta_1$ by using plain linear regression (OLS) on the observed variables $Z$ and $Y$. This time we will include an intercept term:\n",
    "\n",
    "$$\\hat\\beta_1, \\hat c = \\arg\\min_{\\beta_1, c} \\Vert Y - \\beta_1Z - c \\Vert^2_2$$"
   ]
  },
  {
   "cell_type": "markdown",
   "id": "bd18f50b",
   "metadata": {},
   "source": [
    "## 2.a) Fit Naive OLS\n",
    "Fill in the code below to fit the OLS model described above."
   ]
  },
  {
   "cell_type": "code",
   "execution_count": null,
   "id": "4743442c",
   "metadata": {
    "tags": []
   },
   "outputs": [],
   "source": [
    "# Fit OLS parameters to predict Y from Z.\n",
    "beta_naive_model = ...\n",
    "print(beta_naive_model.summary())"
   ]
  },
  {
   "cell_type": "code",
   "execution_count": null,
   "id": "6401afe4",
   "metadata": {
    "deletable": false,
    "editable": false
   },
   "outputs": [],
   "source": [
    "grader.check(\"q2a\")"
   ]
  },
  {
   "cell_type": "code",
   "execution_count": null,
   "id": "9851ee95",
   "metadata": {},
   "outputs": [],
   "source": [
    "print(\"The Naive OLS estimate of beta_1 is {:.2f}, while the true beta_1 is {}\".format(beta_naive_model.params[1], 5))"
   ]
  },
  {
   "cell_type": "markdown",
   "id": "7cc8b099",
   "metadata": {},
   "source": [
    "<!-- BEGIN QUESTION -->\n",
    "\n",
    "## 2.b) Does the Naive approach overestimate or under estimate the value of reading books?\n",
    "\n",
    "*Hint: Answer this question by comparing the naive estimate and the true value of $\\beta_1$*"
   ]
  },
  {
   "cell_type": "markdown",
   "id": "cc58cefd",
   "metadata": {},
   "source": [
    "_Type your answer here, replacing this text._"
   ]
  },
  {
   "cell_type": "markdown",
   "id": "8e096c96",
   "metadata": {},
   "source": [
    "<!-- END QUESTION -->\n",
    "\n",
    "# 3. Instrumental variables and 2SLS\n",
    "\n",
    "To eliminate the bias, we turn to instrumental variables. In the first stage, we \"predict\" the number of books a student read from whether or not they had a readathon, $W$, producing an estimate $\\hat{Z}$. Then, in the second stage, we regress the SAT score $Y$ onto the predicted number of books read $\\hat{Z}$.\n",
    "\n",
    "## Stage 1: Predict treatment variable $\\hat{Z}$ from instrumental variable $W$"
   ]
  },
  {
   "cell_type": "code",
   "execution_count": null,
   "id": "51193aaa",
   "metadata": {},
   "outputs": [],
   "source": [
    "# No TODOs here, just run this call and understand what this function is doing.\n",
    "def compute_OLS_predictions(input_array, input_params):\n",
    "    \"\"\"Calculates OLS predictions from fitted OLS parameters, input_params.\n",
    "    \n",
    "    Args:\n",
    "      input_array: numpy array with n entries, where each entry corresponds with a feature value for a given student.\n",
    "      input_params: numpy array with 2 entries, where the entries are [intercept, beta_hat]. \n",
    "        The intercept is a constant term, so the final OLS predictions should be \n",
    "        predictions = intercept + beta_hat*input_array.\n",
    "\n",
    "    Returns:\n",
    "      numpy array with n entries containing predictions from input_array.\n",
    "    \"\"\"\n",
    "    predictions = input_params[0] + input_params[1] * input_array \n",
    "    return predictions"
   ]
  },
  {
   "cell_type": "markdown",
   "id": "81654c1a",
   "metadata": {},
   "source": [
    "## 3.a) Predicting $\\hat{Z}$"
   ]
  },
  {
   "cell_type": "markdown",
   "id": "06f0cab0",
   "metadata": {},
   "source": [
    "#### 3.a.i) Complete the code below to fit an OLS model that predicts $\\hat{Z}$ (estimated number of books read) using $W$ (whether they had a readathon).\n",
    "\n",
    "$$\\hat\\gamma_1, \\hat c = \\arg\\min_{\\gamma_1, c} \\Vert Z - \\gamma_1W - c\\Vert_2^2$$"
   ]
  },
  {
   "cell_type": "code",
   "execution_count": null,
   "id": "38985bb2",
   "metadata": {
    "tags": []
   },
   "outputs": [],
   "source": [
    "# Fit OLS parameters to predict Z from W\n",
    "gamma1_model = ...\n",
    "print(gamma1_model.summary())"
   ]
  },
  {
   "cell_type": "code",
   "execution_count": null,
   "id": "f8c89011",
   "metadata": {
    "deletable": false,
    "editable": false
   },
   "outputs": [],
   "source": [
    "grader.check(\"q3a_i\")"
   ]
  },
  {
   "cell_type": "code",
   "execution_count": null,
   "id": "48c3d961",
   "metadata": {},
   "outputs": [],
   "source": [
    "print(\"The OLS estimate of gamma_1 is {:.3f}, while the true gamma_1 is {}\".format(gamma1_model.params[1], 1))"
   ]
  },
  {
   "cell_type": "markdown",
   "id": "dd37e795",
   "metadata": {},
   "source": [
    "<!-- BEGIN QUESTION -->\n",
    "\n",
    "#### 3.a.ii) We observe that the estimate of $\\gamma_1$ above is very close to the true value, even though we don't make use of the `Income` variable. How can you explain this?\n",
    "*Hint: Think about independence, and how the relationship between X and Z might be affected by the relationship between W and Z.*"
   ]
  },
  {
   "cell_type": "markdown",
   "id": "e81e7e00",
   "metadata": {},
   "source": [
    "_Type your answer here, replacing this text._"
   ]
  },
  {
   "cell_type": "markdown",
   "id": "eb0eff72",
   "metadata": {},
   "source": [
    "<!-- END QUESTION -->\n",
    "\n",
    "#### 3.a.iii) (OPTIONAL - NOT GRADED) \n",
    "\n",
    "We just saw that the estimate for $\\gamma_1$ is unbiased for the true value with only $W$. Back in Question 1 we also did a regression to get $\\gamma_1$ where we included both $W$ and $X$ as regressors. What additional benefit does including $X$ give for estimating $\\gamma_1$?"
   ]
  },
  {
   "cell_type": "markdown",
   "id": "d4a653e1",
   "metadata": {},
   "source": [
    "_Type your answer here, replacing this text._"
   ]
  },
  {
   "cell_type": "markdown",
   "id": "5f02a5b6",
   "metadata": {},
   "source": [
    "### Now we can use the OLS model above to create $\\hat Z$ predictions"
   ]
  },
  {
   "cell_type": "code",
   "execution_count": null,
   "id": "e968d861",
   "metadata": {},
   "outputs": [],
   "source": [
    "# Compute predictions for number of books read\n",
    "intercept_OLS = gamma1_model.params[0]\n",
    "gamma1_OLS = gamma1_model.params[1]\n",
    "Z_hat = intercept_OLS + gamma1_OLS*student_data['ReadathonDuration']\n",
    "\n",
    "# Add the predictions to the student_data dataframe\n",
    "student_data['PredictedNumBooks'] = Z_hat\n",
    "student_data.head()"
   ]
  },
  {
   "cell_type": "markdown",
   "id": "c98b3a54",
   "metadata": {},
   "source": [
    "## Stage 2: Estimate target $Y$ from predicted treatment variable $\\hat{X}_1$"
   ]
  },
  {
   "cell_type": "markdown",
   "id": "f18e848b",
   "metadata": {},
   "source": [
    "## 3.b) Fit OLS parameters to predict $Y$ from the predicted $\\hat Z$\n",
    "$$\\hat \\beta_1, \\hat c = \\arg\\min_{\\beta_1, c}\\Vert Y-\\beta_1\\hat Z - c\\Vert_2^2$$"
   ]
  },
  {
   "cell_type": "code",
   "execution_count": null,
   "id": "6fc1ee3c",
   "metadata": {
    "tags": []
   },
   "outputs": [],
   "source": [
    "# Fit OLS parameters to predict Y from the predicted Z_hat.\n",
    "beta1_model = ...\n",
    "print(beta1_model.summary())"
   ]
  },
  {
   "cell_type": "code",
   "execution_count": null,
   "id": "ff22b88f",
   "metadata": {
    "deletable": false,
    "editable": false
   },
   "outputs": [],
   "source": [
    "grader.check(\"q3b\")"
   ]
  },
  {
   "cell_type": "code",
   "execution_count": null,
   "id": "a3ee1dd0",
   "metadata": {},
   "outputs": [],
   "source": [
    "print(\"The 2SLS estimate of beta_1 is {:.3f}, while the true value is {}\".format(beta1_model.params[1], 5))"
   ]
  },
  {
   "cell_type": "markdown",
   "id": "0663fb0f",
   "metadata": {},
   "source": [
    "## 3.c) Conceptual Questions"
   ]
  },
  {
   "cell_type": "markdown",
   "id": "b772ed80",
   "metadata": {},
   "source": [
    "<!-- BEGIN QUESTION -->\n",
    "\n",
    "#### 3.c.i) Which technique produced a better estimate of $\\beta_1$, naive OLS or 2SLS?"
   ]
  },
  {
   "cell_type": "markdown",
   "id": "074363a2",
   "metadata": {},
   "source": [
    "_Type your answer here, replacing this text._"
   ]
  },
  {
   "cell_type": "markdown",
   "id": "43fca46a",
   "metadata": {},
   "source": [
    "<!-- END QUESTION -->\n",
    "\n",
    "<!-- BEGIN QUESTION -->\n",
    "\n",
    "#### 3.c.ii) Qualitatively, how would you describe the predictions $\\hat Z$? How do they compare to the original $Z$? What sources of variation do they remove?"
   ]
  },
  {
   "cell_type": "markdown",
   "id": "a75c175d",
   "metadata": {},
   "source": [
    "*Hint: If it helps to see the predicted and original values, you can look at the dataframe `student_data` or look at the snippet above printed out right before Stage 2.*"
   ]
  },
  {
   "cell_type": "markdown",
   "id": "2501e6ec",
   "metadata": {},
   "source": [
    "_Type your answer here, replacing this text._"
   ]
  },
  {
   "cell_type": "markdown",
   "id": "9ba8d9d9",
   "metadata": {},
   "source": [
    "<!-- END QUESTION -->\n",
    "\n"
   ]
  },
  {
   "cell_type": "code",
   "execution_count": null,
   "id": "d7317423",
   "metadata": {},
   "outputs": [],
   "source": [
    "import matplotlib.image as mpimg\n",
    "img = mpimg.imread('cute_animal_dot_jpg.jpg')\n",
    "imgplot = plt.imshow(img)\n",
    "imgplot.axes.get_xaxis().set_visible(False)\n",
    "imgplot.axes.get_yaxis().set_visible(False)\n",
    "print(\"Yay, you've made it to the end of Lab 7!\")\n",
    "plt.show()"
   ]
  },
  {
   "cell_type": "markdown",
   "id": "dc1c44ef",
   "metadata": {
    "deletable": false,
    "editable": false
   },
   "source": [
    "## Submission\n",
    "\n",
    "Make sure you have run all cells in your notebook in order before running the cell below, so that all images/graphs appear in the output. The cell below will generate a zip file for you to submit. **Please save before exporting!**"
   ]
  },
  {
   "cell_type": "code",
   "execution_count": null,
   "id": "38956c84",
   "metadata": {
    "deletable": false,
    "editable": false
   },
   "outputs": [],
   "source": [
    "# Save your notebook first, then run this cell to export your submission.\n",
    "grader.export(run_tests=True)"
   ]
  },
  {
   "cell_type": "markdown",
   "id": "163fbfd9",
   "metadata": {},
   "source": [
    " "
   ]
  }
 ],
 "metadata": {
  "kernelspec": {
   "display_name": "Python 3 (ipykernel)",
   "language": "python",
   "name": "python3"
  },
  "language_info": {
   "codemirror_mode": {
    "name": "ipython",
    "version": 3
   },
   "file_extension": ".py",
   "mimetype": "text/x-python",
   "name": "python",
   "nbconvert_exporter": "python",
   "pygments_lexer": "ipython3",
   "version": "3.9.15"
  },
  "otter": {
   "OK_FORMAT": true,
   "tests": {
    "q1d": {
     "name": "q1d",
     "points": 1,
     "suites": [
      {
       "cases": [
        {
         "code": ">>> betas = betas_model.params\n>>> checks = [len(betas) == 2,\n...           np.abs(betas['NumBooks']-5) < 0.1,\n...           np.abs(betas['Income']-12) < 0.1]\n>>> assert np.all(checks)\n",
         "hidden": false,
         "locked": false
        }
       ],
       "scored": true,
       "setup": "",
       "teardown": "",
       "type": "doctest"
      }
     ]
    },
    "q2a": {
     "name": "q2a",
     "points": 1,
     "suites": [
      {
       "cases": [
        {
         "code": ">>> params = beta_naive_model.params\n>>> checks = [len(params)==2,\n...           np.abs(params[0] - 42.85)<0.5,\n...           np.abs(params[1] - 12.96)<0.2]\n>>> assert np.all(checks)\n",
         "hidden": false,
         "locked": false
        }
       ],
       "scored": true,
       "setup": "",
       "teardown": "",
       "type": "doctest"
      }
     ]
    },
    "q3a_i": {
     "name": "q3a_i",
     "points": 1,
     "suites": [
      {
       "cases": [
        {
         "code": ">>> params = gamma1_model.params\n>>> checks = [len(params)==2,\n...           np.abs(params[0] - 50.16)<0.5,\n...           np.abs(params[1] - 1)<0.1]\n>>> assert np.all(checks)\n",
         "hidden": false,
         "locked": false
        }
       ],
       "scored": true,
       "setup": "",
       "teardown": "",
       "type": "doctest"
      }
     ]
    },
    "q3b": {
     "name": "q3b",
     "points": 1,
     "suites": [
      {
       "cases": [
        {
         "code": ">>> params = beta1_model.params\n>>> checks = [len(params)==2,\n...           np.abs(params[0] - 612)<5,\n...           np.abs(params[1] - 4.84)<0.3]\n>>> assert np.all(checks)\n",
         "hidden": false,
         "locked": false
        }
       ],
       "scored": true,
       "setup": "",
       "teardown": "",
       "type": "doctest"
      }
     ]
    }
   }
  }
 },
 "nbformat": 4,
 "nbformat_minor": 5
}
