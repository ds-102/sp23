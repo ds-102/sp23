{
 "cells": [
  {
   "cell_type": "markdown",
   "metadata": {},
   "source": [
    "# Lecture 11 Demo: Posterior predictive checks"
   ]
  },
  {
   "cell_type": "code",
   "execution_count": 1,
   "metadata": {},
   "outputs": [],
   "source": [
    "%matplotlib inline\n",
    "import numpy as np\n",
    "import pandas as pd\n",
    "import matplotlib.pyplot as plt\n",
    "import seaborn as sns\n",
    "\n",
    "import pymc3 as pm\n",
    "from pymc3 import glm\n",
    "import arviz as az\n",
    "sns.set()"
   ]
  },
  {
   "cell_type": "markdown",
   "metadata": {},
   "source": [
    "### Create OK turbines data set"
   ]
  },
  {
   "cell_type": "code",
   "execution_count": 2,
   "metadata": {},
   "outputs": [
    {
     "data": {
      "text/html": [
       "<div>\n",
       "<style scoped>\n",
       "    .dataframe tbody tr th:only-of-type {\n",
       "        vertical-align: middle;\n",
       "    }\n",
       "\n",
       "    .dataframe tbody tr th {\n",
       "        vertical-align: top;\n",
       "    }\n",
       "\n",
       "    .dataframe thead th {\n",
       "        text-align: right;\n",
       "    }\n",
       "</style>\n",
       "<table border=\"1\" class=\"dataframe\">\n",
       "  <thead>\n",
       "    <tr style=\"text-align: right;\">\n",
       "      <th></th>\n",
       "      <th>t_state</th>\n",
       "      <th>t_built</th>\n",
       "      <th>t_cap</th>\n",
       "      <th>year</th>\n",
       "    </tr>\n",
       "  </thead>\n",
       "  <tbody>\n",
       "    <tr>\n",
       "      <th>0</th>\n",
       "      <td>AK</td>\n",
       "      <td>6</td>\n",
       "      <td>390.0</td>\n",
       "      <td>-3.0</td>\n",
       "    </tr>\n",
       "    <tr>\n",
       "      <th>1</th>\n",
       "      <td>AK</td>\n",
       "      <td>6</td>\n",
       "      <td>475.0</td>\n",
       "      <td>-1.0</td>\n",
       "    </tr>\n",
       "    <tr>\n",
       "      <th>2</th>\n",
       "      <td>AK</td>\n",
       "      <td>2</td>\n",
       "      <td>100.0</td>\n",
       "      <td>0.0</td>\n",
       "    </tr>\n",
       "    <tr>\n",
       "      <th>3</th>\n",
       "      <td>AK</td>\n",
       "      <td>1</td>\n",
       "      <td>1500.0</td>\n",
       "      <td>1.0</td>\n",
       "    </tr>\n",
       "    <tr>\n",
       "      <th>4</th>\n",
       "      <td>AK</td>\n",
       "      <td>1</td>\n",
       "      <td>100.0</td>\n",
       "      <td>2.0</td>\n",
       "    </tr>\n",
       "  </tbody>\n",
       "</table>\n",
       "</div>"
      ],
      "text/plain": [
       "  t_state  t_built   t_cap  year\n",
       "0      AK        6   390.0  -3.0\n",
       "1      AK        6   475.0  -1.0\n",
       "2      AK        2   100.0   0.0\n",
       "3      AK        1  1500.0   1.0\n",
       "4      AK        1   100.0   2.0"
      ]
     },
     "execution_count": 2,
     "metadata": {},
     "output_type": "execute_result"
    }
   ],
   "source": [
    "turbines = pd.read_csv('turbines.csv')\n",
    "# The \"year\" column contains how many years since the year 2000\n",
    "turbines['year'] = turbines['p_year'] - 2000\n",
    "turbines = turbines.drop('p_year', axis=1)\n",
    "turbines.head()"
   ]
  },
  {
   "cell_type": "code",
   "execution_count": 3,
   "metadata": {},
   "outputs": [],
   "source": [
    "# Turbines in Oklahoma\n",
    "ok_filter = (turbines.t_state == 'OK') & (turbines.year >= 0)\n",
    "ok_turbines = turbines[ok_filter].sort_values('year')\n",
    "ok_turbines[\"totals\"] = np.cumsum(ok_turbines[\"t_built\"])\n",
    "# Log-transform the counts, too\n",
    "ok_turbines[\"log_totals\"] = np.log(ok_turbines[\"totals\"])"
   ]
  },
  {
   "cell_type": "markdown",
   "metadata": {},
   "source": [
    "### Draw posterior samples from Gaussian, Poisson and negative binomial models"
   ]
  },
  {
   "cell_type": "code",
   "execution_count": 4,
   "metadata": {},
   "outputs": [
    {
     "name": "stderr",
     "output_type": "stream",
     "text": [
      "The glm module is deprecated and will be removed in version 4.0\n",
      "We recommend to instead use Bambi https://bambinos.github.io/bambi/\n",
      "/Users/eaman/opt/anaconda3/lib/python3.9/site-packages/deprecat/classic.py:215: FutureWarning: In v4.0, pm.sample will return an `arviz.InferenceData` object instead of a `MultiTrace` by default. You can pass return_inferencedata=True or return_inferencedata=False to be safe and silence this warning.\n",
      "  return wrapped_(*args_, **kwargs_)\n",
      "Auto-assigning NUTS sampler...\n",
      "Initializing NUTS using jitter+adapt_diag...\n",
      "Multiprocess sampling (2 chains in 2 jobs)\n",
      "NUTS: [sd, year, Intercept]\n"
     ]
    },
    {
     "data": {
      "text/html": [
       "\n",
       "<style>\n",
       "    /* Turns off some styling */\n",
       "    progress {\n",
       "        /* gets rid of default border in Firefox and Opera. */\n",
       "        border: none;\n",
       "        /* Needs to be in here for Safari polyfill so background images work as expected. */\n",
       "        background-size: auto;\n",
       "    }\n",
       "    progress:not([value]), progress:not([value])::-webkit-progress-bar {\n",
       "        background: repeating-linear-gradient(45deg, #7e7e7e, #7e7e7e 10px, #5c5c5c 10px, #5c5c5c 20px);\n",
       "    }\n",
       "    .progress-bar-interrupted, .progress-bar-interrupted::-webkit-progress-bar {\n",
       "        background: #F44336;\n",
       "    }\n",
       "</style>\n"
      ],
      "text/plain": [
       "<IPython.core.display.HTML object>"
      ]
     },
     "metadata": {},
     "output_type": "display_data"
    },
    {
     "data": {
      "text/html": [
       "\n",
       "    <div>\n",
       "      <progress value='4000' class='' max='4000' style='width:300px; height:20px; vertical-align: middle;'></progress>\n",
       "      100.00% [4000/4000 00:02&lt;00:00 Sampling 2 chains, 0 divergences]\n",
       "    </div>\n",
       "    "
      ],
      "text/plain": [
       "<IPython.core.display.HTML object>"
      ]
     },
     "metadata": {},
     "output_type": "display_data"
    },
    {
     "name": "stderr",
     "output_type": "stream",
     "text": [
      "Sampling 2 chains for 1_000 tune and 1_000 draw iterations (2_000 + 2_000 draws total) took 9 seconds.\n",
      "The glm module is deprecated and will be removed in version 4.0\n",
      "We recommend to instead use Bambi https://bambinos.github.io/bambi/\n",
      "/Users/eaman/opt/anaconda3/lib/python3.9/site-packages/deprecat/classic.py:215: FutureWarning: In v4.0, pm.sample will return an `arviz.InferenceData` object instead of a `MultiTrace` by default. You can pass return_inferencedata=True or return_inferencedata=False to be safe and silence this warning.\n",
      "  return wrapped_(*args_, **kwargs_)\n",
      "Auto-assigning NUTS sampler...\n",
      "Initializing NUTS using jitter+adapt_diag...\n",
      "Multiprocess sampling (2 chains in 2 jobs)\n",
      "NUTS: [mu, year, Intercept]\n"
     ]
    },
    {
     "data": {
      "text/html": [
       "\n",
       "<style>\n",
       "    /* Turns off some styling */\n",
       "    progress {\n",
       "        /* gets rid of default border in Firefox and Opera. */\n",
       "        border: none;\n",
       "        /* Needs to be in here for Safari polyfill so background images work as expected. */\n",
       "        background-size: auto;\n",
       "    }\n",
       "    progress:not([value]), progress:not([value])::-webkit-progress-bar {\n",
       "        background: repeating-linear-gradient(45deg, #7e7e7e, #7e7e7e 10px, #5c5c5c 10px, #5c5c5c 20px);\n",
       "    }\n",
       "    .progress-bar-interrupted, .progress-bar-interrupted::-webkit-progress-bar {\n",
       "        background: #F44336;\n",
       "    }\n",
       "</style>\n"
      ],
      "text/plain": [
       "<IPython.core.display.HTML object>"
      ]
     },
     "metadata": {},
     "output_type": "display_data"
    },
    {
     "data": {
      "text/html": [
       "\n",
       "    <div>\n",
       "      <progress value='4000' class='' max='4000' style='width:300px; height:20px; vertical-align: middle;'></progress>\n",
       "      100.00% [4000/4000 00:06&lt;00:00 Sampling 2 chains, 0 divergences]\n",
       "    </div>\n",
       "    "
      ],
      "text/plain": [
       "<IPython.core.display.HTML object>"
      ]
     },
     "metadata": {},
     "output_type": "display_data"
    },
    {
     "name": "stderr",
     "output_type": "stream",
     "text": [
      "Sampling 2 chains for 1_000 tune and 1_000 draw iterations (2_000 + 2_000 draws total) took 13 seconds.\n",
      "The glm module is deprecated and will be removed in version 4.0\n",
      "We recommend to instead use Bambi https://bambinos.github.io/bambi/\n",
      "/Users/eaman/opt/anaconda3/lib/python3.9/site-packages/deprecat/classic.py:215: FutureWarning: In v4.0, pm.sample will return an `arviz.InferenceData` object instead of a `MultiTrace` by default. You can pass return_inferencedata=True or return_inferencedata=False to be safe and silence this warning.\n",
      "  return wrapped_(*args_, **kwargs_)\n",
      "Auto-assigning NUTS sampler...\n",
      "Initializing NUTS using jitter+adapt_diag...\n",
      "Multiprocess sampling (2 chains in 2 jobs)\n",
      "NUTS: [alpha, mu, year, Intercept]\n"
     ]
    },
    {
     "data": {
      "text/html": [
       "\n",
       "<style>\n",
       "    /* Turns off some styling */\n",
       "    progress {\n",
       "        /* gets rid of default border in Firefox and Opera. */\n",
       "        border: none;\n",
       "        /* Needs to be in here for Safari polyfill so background images work as expected. */\n",
       "        background-size: auto;\n",
       "    }\n",
       "    progress:not([value]), progress:not([value])::-webkit-progress-bar {\n",
       "        background: repeating-linear-gradient(45deg, #7e7e7e, #7e7e7e 10px, #5c5c5c 10px, #5c5c5c 20px);\n",
       "    }\n",
       "    .progress-bar-interrupted, .progress-bar-interrupted::-webkit-progress-bar {\n",
       "        background: #F44336;\n",
       "    }\n",
       "</style>\n"
      ],
      "text/plain": [
       "<IPython.core.display.HTML object>"
      ]
     },
     "metadata": {},
     "output_type": "display_data"
    },
    {
     "data": {
      "text/html": [
       "\n",
       "    <div>\n",
       "      <progress value='4000' class='' max='4000' style='width:300px; height:20px; vertical-align: middle;'></progress>\n",
       "      100.00% [4000/4000 00:04&lt;00:00 Sampling 2 chains, 0 divergences]\n",
       "    </div>\n",
       "    "
      ],
      "text/plain": [
       "<IPython.core.display.HTML object>"
      ]
     },
     "metadata": {},
     "output_type": "display_data"
    },
    {
     "name": "stderr",
     "output_type": "stream",
     "text": [
      "Sampling 2 chains for 1_000 tune and 1_000 draw iterations (2_000 + 2_000 draws total) took 11 seconds.\n"
     ]
    }
   ],
   "source": [
    "# Bayesian regression model using Gaussian likelihood (equivalent to OLS)\n",
    "\n",
    "with pm.Model() as gaussian_model:\n",
    "    # Specify glm and pass in data. This is similar to the code from\n",
    "    # Lab 3 that created `theta = pm.Beta(...)`, etc., but using PyMC3's \n",
    "    # GLM module sets everything up automaticaly. \n",
    "    # The resulting linear model, its likelihood and\n",
    "    # and all its parameters are automatically added to our model.\n",
    "    glm.GLM.from_formula('log_totals ~ year', ok_turbines)\n",
    "    # draw posterior samples using NUTS sampling\n",
    "    gaussian_trace = pm.sample(1000, cores=2, target_accept=0.95)\n",
    "    \n",
    "# Not counting variable name changes, there are two differences \n",
    "# between this cell and the version we did before: can you find them?\n",
    "with pm.Model() as poisson_model:\n",
    "    glm.GLM.from_formula('totals ~ year', ok_turbines, family=glm.families.Poisson())\n",
    "    # draw posterior samples using NUTS sampling\n",
    "    poisson_trace = pm.sample(1000, cores=2, target_accept=0.95)\n",
    "\n",
    "\n",
    "with pm.Model() as negbin_model:\n",
    "    glm.GLM.from_formula('totals ~ year', ok_turbines, family=glm.families.NegativeBinomial())\n",
    "    # draw posterior samples using NUTS sampling\n",
    "    negbin_trace = pm.sample(1000, cores=2, target_accept=0.95)"
   ]
  },
  {
   "cell_type": "code",
   "execution_count": 5,
   "metadata": {},
   "outputs": [
    {
     "data": {
      "text/plain": [
       "array([0.18243241, 0.18209481, 0.1827139 , ..., 0.18363934, 0.18300032,\n",
       "       0.18132732])"
      ]
     },
     "execution_count": 5,
     "metadata": {},
     "output_type": "execute_result"
    }
   ],
   "source": [
    "poisson_trace['year']"
   ]
  },
  {
   "cell_type": "code",
   "execution_count": 6,
   "metadata": {},
   "outputs": [
    {
     "data": {
      "text/plain": [
       "array([0.2272976 , 0.23636107, 0.24107023, ..., 0.24120248, 0.28103496,\n",
       "       0.22214559])"
      ]
     },
     "execution_count": 6,
     "metadata": {},
     "output_type": "execute_result"
    }
   ],
   "source": [
    "negbin_trace['year']"
   ]
  },
  {
   "cell_type": "markdown",
   "metadata": {},
   "source": [
    "## Credible intervals for coefficients"
   ]
  },
  {
   "cell_type": "code",
   "execution_count": 7,
   "metadata": {},
   "outputs": [
    {
     "data": {
      "text/plain": [
       "array([0.2272976 , 0.23636107, 0.24107023, ..., 0.24120248, 0.28103496,\n",
       "       0.22214559])"
      ]
     },
     "execution_count": 7,
     "metadata": {},
     "output_type": "execute_result"
    }
   ],
   "source": [
    "β_year_samples = negbin_trace['year']\n",
    "β_year_samples"
   ]
  },
  {
   "cell_type": "code",
   "execution_count": 8,
   "metadata": {},
   "outputs": [
    {
     "data": {
      "text/plain": [
       "(2000,)"
      ]
     },
     "execution_count": 8,
     "metadata": {},
     "output_type": "execute_result"
    }
   ],
   "source": [
    "β_year_samples.shape"
   ]
  },
  {
   "cell_type": "code",
   "execution_count": 9,
   "metadata": {},
   "outputs": [
    {
     "data": {
      "text/plain": [
       "(array([  2.,   2.,   5.,   6.,  13.,  35.,  69., 108., 193., 263., 321.,\n",
       "        299., 253., 208., 106.,  57.,  37.,  14.,   7.,   2.]),\n",
       " array([0.11283591, 0.12419225, 0.13554858, 0.14690492, 0.15826125,\n",
       "        0.16961759, 0.18097393, 0.19233026, 0.2036866 , 0.21504293,\n",
       "        0.22639927, 0.23775561, 0.24911194, 0.26046828, 0.27182461,\n",
       "        0.28318095, 0.29453729, 0.30589362, 0.31724996, 0.32860629,\n",
       "        0.33996263]),\n",
       " <BarContainer object of 20 artists>)"
      ]
     },
     "execution_count": 9,
     "metadata": {},
     "output_type": "execute_result"
    },
    {
     "data": {
      "image/png": "[encoded data removed]",
      "text/plain": [
       "<Figure size 640x480 with 1 Axes>"
      ]
     },
     "metadata": {},
     "output_type": "display_data"
    }
   ],
   "source": [
    "plt.hist(β_year_samples, bins=20)"
   ]
  },
  {
   "cell_type": "code",
   "execution_count": 10,
   "metadata": {},
   "outputs": [
    {
     "data": {
      "text/plain": [
       "array([0.11283591, 0.11375588, 0.12990714, ..., 0.32747085, 0.32938958,\n",
       "       0.33996263])"
      ]
     },
     "execution_count": 10,
     "metadata": {},
     "output_type": "execute_result"
    }
   ],
   "source": [
    "sorted_samples = np.sort(β_year_samples)\n",
    "sorted_samples"
   ]
  },
  {
   "cell_type": "markdown",
   "metadata": {},
   "source": [
    "To construct a 95% credible interval, we should choose a range that covers 95% of the posterior samples:"
   ]
  },
  {
   "cell_type": "code",
   "execution_count": 11,
   "metadata": {
    "scrolled": true
   },
   "outputs": [
    {
     "data": {
      "text/plain": [
       "1900.0"
      ]
     },
     "execution_count": 11,
     "metadata": {},
     "output_type": "execute_result"
    }
   ],
   "source": [
    "0.95 * 2000"
   ]
  },
  {
   "cell_type": "markdown",
   "metadata": {},
   "source": [
    "One choice of credible interval is to start this interval at the minimum sampled value from the posterior and go up to 1900th sample:"
   ]
  },
  {
   "cell_type": "code",
   "execution_count": 12,
   "metadata": {},
   "outputs": [
    {
     "data": {
      "text/plain": [
       "(array([  2.,   2.,   5.,   6.,  13.,  35.,  69., 108., 193., 263., 321.,\n",
       "        299., 253., 208., 106.,  57.,  37.,  14.,   7.,   2.]),\n",
       " array([0.11283591, 0.12419225, 0.13554858, 0.14690492, 0.15826125,\n",
       "        0.16961759, 0.18097393, 0.19233026, 0.2036866 , 0.21504293,\n",
       "        0.22639927, 0.23775561, 0.24911194, 0.26046828, 0.27182461,\n",
       "        0.28318095, 0.29453729, 0.30589362, 0.31724996, 0.32860629,\n",
       "        0.33996263]),\n",
       " <BarContainer object of 20 artists>)"
      ]
     },
     "execution_count": 12,
     "metadata": {},
     "output_type": "execute_result"
    },
    {
     "data": {
      "image/png": "[encoded data removed]",
      "text/plain": [
       "<Figure size 640x480 with 1 Axes>"
      ]
     },
     "metadata": {},
     "output_type": "display_data"
    }
   ],
   "source": [
    "cred_interval_samples = sorted_samples[0:1900]\n",
    "plt.axvline(cred_interval_samples[0], color = 'red', linewidth=3)\n",
    "plt.axvline(cred_interval_samples[-1], color = 'red', linewidth=3)\n",
    "plt.hist(sorted_samples, bins=20)"
   ]
  },
  {
   "cell_type": "code",
   "execution_count": 13,
   "metadata": {},
   "outputs": [
    {
     "data": {
      "text/plain": [
       "array([0.11283591, 0.11375588, 0.12990714, ..., 0.28651065, 0.28663689,\n",
       "       0.28703184])"
      ]
     },
     "execution_count": 13,
     "metadata": {},
     "output_type": "execute_result"
    }
   ],
   "source": [
    "cred_interval_samples"
   ]
  },
  {
   "cell_type": "code",
   "execution_count": 14,
   "metadata": {},
   "outputs": [
    {
     "data": {
      "text/plain": [
       "0.17419593338060652"
      ]
     },
     "execution_count": 14,
     "metadata": {},
     "output_type": "execute_result"
    }
   ],
   "source": [
    "# Let's examine the width of this credible interval\n",
    "cred_interval_samples[-1] - cred_interval_samples[0] "
   ]
  },
  {
   "cell_type": "markdown",
   "metadata": {},
   "source": [
    "Another choice of credible interval is to end this interval at the maximum sampled value from the posterior and start at the 100th sample:"
   ]
  },
  {
   "cell_type": "code",
   "execution_count": 15,
   "metadata": {},
   "outputs": [
    {
     "data": {
      "text/plain": [
       "(array([  2.,   2.,   5.,   6.,  13.,  35.,  69., 108., 193., 263., 321.,\n",
       "        299., 253., 208., 106.,  57.,  37.,  14.,   7.,   2.]),\n",
       " array([0.11283591, 0.12419225, 0.13554858, 0.14690492, 0.15826125,\n",
       "        0.16961759, 0.18097393, 0.19233026, 0.2036866 , 0.21504293,\n",
       "        0.22639927, 0.23775561, 0.24911194, 0.26046828, 0.27182461,\n",
       "        0.28318095, 0.29453729, 0.30589362, 0.31724996, 0.32860629,\n",
       "        0.33996263]),\n",
       " <BarContainer object of 20 artists>)"
      ]
     },
     "execution_count": 15,
     "metadata": {},
     "output_type": "execute_result"
    },
    {
     "data": {
      "image/png": "[encoded data removed]",
      "text/plain": [
       "<Figure size 640x480 with 1 Axes>"
      ]
     },
     "metadata": {},
     "output_type": "display_data"
    }
   ],
   "source": [
    "cred_interval_samples = sorted_samples[99:2000]\n",
    "plt.axvline(cred_interval_samples[0], color = 'red', linewidth=3)\n",
    "plt.axvline(cred_interval_samples[-1], color = 'red', linewidth=3)\n",
    "plt.hist(sorted_samples, bins=20)"
   ]
  },
  {
   "cell_type": "code",
   "execution_count": 16,
   "metadata": {},
   "outputs": [
    {
     "data": {
      "text/plain": [
       "0.14999999999999997"
      ]
     },
     "execution_count": 16,
     "metadata": {},
     "output_type": "execute_result"
    }
   ],
   "source": [
    "# Let's examine the width of this credible interval\n",
    "0.288 - 0.138"
   ]
  },
  {
   "cell_type": "code",
   "execution_count": 17,
   "metadata": {},
   "outputs": [
    {
     "data": {
      "text/plain": [
       "array([0.18760251, 0.18764406, 0.18774898, ..., 0.32747085, 0.32938958,\n",
       "       0.33996263])"
      ]
     },
     "execution_count": 17,
     "metadata": {},
     "output_type": "execute_result"
    }
   ],
   "source": [
    "sorted_samples[100:2000]"
   ]
  },
  {
   "cell_type": "code",
   "execution_count": 18,
   "metadata": {},
   "outputs": [
    {
     "data": {
      "text/plain": [
       "array([0.1874761 , 0.18760251, 0.18764406, ..., 0.32747085, 0.32938958,\n",
       "       0.33996263])"
      ]
     },
     "execution_count": 18,
     "metadata": {},
     "output_type": "execute_result"
    }
   ],
   "source": [
    "cred_interval_samples"
   ]
  },
  {
   "cell_type": "code",
   "execution_count": 19,
   "metadata": {},
   "outputs": [
    {
     "data": {
      "text/plain": [
       "0.15248653293772904"
      ]
     },
     "execution_count": 19,
     "metadata": {},
     "output_type": "execute_result"
    }
   ],
   "source": [
    "# Let's examine the width of this credible interval\n",
    "cred_interval_samples[-1] - cred_interval_samples[0] "
   ]
  },
  {
   "cell_type": "markdown",
   "metadata": {},
   "source": [
    "Another choice of credible interval is to start the interval at the 50th sampled value from the posterior and end at the 1950th sample. This should potentially lead to a narrower credible interval since it avoids covering the tails:"
   ]
  },
  {
   "cell_type": "code",
   "execution_count": 20,
   "metadata": {
    "scrolled": false
   },
   "outputs": [
    {
     "data": {
      "text/plain": [
       "(array([  2.,   2.,   5.,   6.,  13.,  35.,  69., 108., 193., 263., 321.,\n",
       "        299., 253., 208., 106.,  57.,  37.,  14.,   7.,   2.]),\n",
       " array([0.11283591, 0.12419225, 0.13554858, 0.14690492, 0.15826125,\n",
       "        0.16961759, 0.18097393, 0.19233026, 0.2036866 , 0.21504293,\n",
       "        0.22639927, 0.23775561, 0.24911194, 0.26046828, 0.27182461,\n",
       "        0.28318095, 0.29453729, 0.30589362, 0.31724996, 0.32860629,\n",
       "        0.33996263]),\n",
       " <BarContainer object of 20 artists>)"
      ]
     },
     "execution_count": 20,
     "metadata": {},
     "output_type": "execute_result"
    },
    {
     "data": {
      "image/png": "[encoded data removed]",
      "text/plain": [
       "<Figure size 640x480 with 1 Axes>"
      ]
     },
     "metadata": {},
     "output_type": "display_data"
    }
   ],
   "source": [
    "cred_interval_samples = sorted_samples[49:1950]\n",
    "plt.axvline(cred_interval_samples[0], color = 'red', linewidth=3)\n",
    "plt.axvline(cred_interval_samples[-1], color = 'red', linewidth=3)\n",
    "plt.hist(sorted_samples, bins=20)"
   ]
  },
  {
   "cell_type": "code",
   "execution_count": 21,
   "metadata": {},
   "outputs": [
    {
     "data": {
      "text/plain": [
       "array([0.17715806, 0.17735508, 0.17763024, ..., 0.29657241, 0.29667979,\n",
       "       0.29668876])"
      ]
     },
     "execution_count": 21,
     "metadata": {},
     "output_type": "execute_result"
    }
   ],
   "source": [
    "cred_interval_samples"
   ]
  },
  {
   "cell_type": "code",
   "execution_count": 22,
   "metadata": {},
   "outputs": [
    {
     "data": {
      "text/plain": [
       "0.1195307067047088"
      ]
     },
     "execution_count": 22,
     "metadata": {},
     "output_type": "execute_result"
    }
   ],
   "source": [
    "# Let's examine the width of this credible interval\n",
    "cred_interval_samples[-1] - cred_interval_samples[0] "
   ]
  },
  {
   "cell_type": "code",
   "execution_count": 23,
   "metadata": {},
   "outputs": [
    {
     "data": {
      "text/plain": [
       "0.16399999999999998"
      ]
     },
     "execution_count": 23,
     "metadata": {},
     "output_type": "execute_result"
    }
   ],
   "source": [
    "0.358 - 0.194"
   ]
  },
  {
   "cell_type": "code",
   "execution_count": 24,
   "metadata": {},
   "outputs": [
    {
     "data": {
      "text/plain": [
       "array([0.17417873, 0.17487011, 0.17539128, ..., 0.29424438, 0.29446424,\n",
       "       0.29453289])"
      ]
     },
     "execution_count": 24,
     "metadata": {},
     "output_type": "execute_result"
    }
   ],
   "source": [
    "sorted_samples[40:1940]"
   ]
  },
  {
   "cell_type": "code",
   "execution_count": 25,
   "metadata": {},
   "outputs": [
    {
     "data": {
      "text/plain": [
       "0.11399999999999999"
      ]
     },
     "execution_count": 25,
     "metadata": {},
     "output_type": "execute_result"
    }
   ],
   "source": [
    "0.295 - 0.181"
   ]
  },
  {
   "cell_type": "markdown",
   "metadata": {},
   "source": [
    "### Draw posterior predictive samples from Gaussian, Poisson and negative binomial models"
   ]
  },
  {
   "cell_type": "markdown",
   "metadata": {},
   "source": [
    "We use PyMC3's `sample_posterior_predictive`:"
   ]
  },
  {
   "cell_type": "code",
   "execution_count": 26,
   "metadata": {},
   "outputs": [
    {
     "data": {
      "text/html": [
       "\n",
       "<style>\n",
       "    /* Turns off some styling */\n",
       "    progress {\n",
       "        /* gets rid of default border in Firefox and Opera. */\n",
       "        border: none;\n",
       "        /* Needs to be in here for Safari polyfill so background images work as expected. */\n",
       "        background-size: auto;\n",
       "    }\n",
       "    progress:not([value]), progress:not([value])::-webkit-progress-bar {\n",
       "        background: repeating-linear-gradient(45deg, #7e7e7e, #7e7e7e 10px, #5c5c5c 10px, #5c5c5c 20px);\n",
       "    }\n",
       "    .progress-bar-interrupted, .progress-bar-interrupted::-webkit-progress-bar {\n",
       "        background: #F44336;\n",
       "    }\n",
       "</style>\n"
      ],
      "text/plain": [
       "<IPython.core.display.HTML object>"
      ]
     },
     "metadata": {},
     "output_type": "display_data"
    },
    {
     "data": {
      "text/html": [
       "\n",
       "    <div>\n",
       "      <progress value='2000' class='' max='2000' style='width:300px; height:20px; vertical-align: middle;'></progress>\n",
       "      100.00% [2000/2000 00:00&lt;00:00]\n",
       "    </div>\n",
       "    "
      ],
      "text/plain": [
       "<IPython.core.display.HTML object>"
      ]
     },
     "metadata": {},
     "output_type": "display_data"
    }
   ],
   "source": [
    "with gaussian_model:\n",
    "    gaussian_ppc = pm.sample_posterior_predictive(\n",
    "        gaussian_trace, var_names=[\"year\", \"Intercept\", \"y\"]\n",
    "    )"
   ]
  },
  {
   "cell_type": "code",
   "execution_count": 27,
   "metadata": {},
   "outputs": [
    {
     "data": {
      "text/html": [
       "\n",
       "<style>\n",
       "    /* Turns off some styling */\n",
       "    progress {\n",
       "        /* gets rid of default border in Firefox and Opera. */\n",
       "        border: none;\n",
       "        /* Needs to be in here for Safari polyfill so background images work as expected. */\n",
       "        background-size: auto;\n",
       "    }\n",
       "    progress:not([value]), progress:not([value])::-webkit-progress-bar {\n",
       "        background: repeating-linear-gradient(45deg, #7e7e7e, #7e7e7e 10px, #5c5c5c 10px, #5c5c5c 20px);\n",
       "    }\n",
       "    .progress-bar-interrupted, .progress-bar-interrupted::-webkit-progress-bar {\n",
       "        background: #F44336;\n",
       "    }\n",
       "</style>\n"
      ],
      "text/plain": [
       "<IPython.core.display.HTML object>"
      ]
     },
     "metadata": {},
     "output_type": "display_data"
    },
    {
     "data": {
      "text/html": [
       "\n",
       "    <div>\n",
       "      <progress value='2000' class='' max='2000' style='width:300px; height:20px; vertical-align: middle;'></progress>\n",
       "      100.00% [2000/2000 00:00&lt;00:00]\n",
       "    </div>\n",
       "    "
      ],
      "text/plain": [
       "<IPython.core.display.HTML object>"
      ]
     },
     "metadata": {},
     "output_type": "display_data"
    }
   ],
   "source": [
    "with poisson_model:\n",
    "    poisson_ppc = pm.sample_posterior_predictive(\n",
    "        poisson_trace, var_names=[\"year\", \"Intercept\", \"y\"]\n",
    "    )"
   ]
  },
  {
   "cell_type": "code",
   "execution_count": 28,
   "metadata": {
    "scrolled": true
   },
   "outputs": [
    {
     "data": {
      "text/html": [
       "\n",
       "<style>\n",
       "    /* Turns off some styling */\n",
       "    progress {\n",
       "        /* gets rid of default border in Firefox and Opera. */\n",
       "        border: none;\n",
       "        /* Needs to be in here for Safari polyfill so background images work as expected. */\n",
       "        background-size: auto;\n",
       "    }\n",
       "    progress:not([value]), progress:not([value])::-webkit-progress-bar {\n",
       "        background: repeating-linear-gradient(45deg, #7e7e7e, #7e7e7e 10px, #5c5c5c 10px, #5c5c5c 20px);\n",
       "    }\n",
       "    .progress-bar-interrupted, .progress-bar-interrupted::-webkit-progress-bar {\n",
       "        background: #F44336;\n",
       "    }\n",
       "</style>\n"
      ],
      "text/plain": [
       "<IPython.core.display.HTML object>"
      ]
     },
     "metadata": {},
     "output_type": "display_data"
    },
    {
     "data": {
      "text/html": [
       "\n",
       "    <div>\n",
       "      <progress value='2000' class='' max='2000' style='width:300px; height:20px; vertical-align: middle;'></progress>\n",
       "      100.00% [2000/2000 00:00&lt;00:00]\n",
       "    </div>\n",
       "    "
      ],
      "text/plain": [
       "<IPython.core.display.HTML object>"
      ]
     },
     "metadata": {},
     "output_type": "display_data"
    }
   ],
   "source": [
    "with negbin_model:\n",
    "    negbin_ppc = pm.sample_posterior_predictive(\n",
    "        negbin_trace, var_names=[\"year\", \"Intercept\", \"y\"]\n",
    "    )"
   ]
  },
  {
   "cell_type": "code",
   "execution_count": 29,
   "metadata": {},
   "outputs": [
    {
     "data": {
      "text/plain": [
       "{'year': array([0.2272976 , 0.23636107, 0.24107023, ..., 0.24120248, 0.28103496,\n",
       "        0.22214559]),\n",
       " 'Intercept': array([4.26474124, 4.32202072, 4.03239646, ..., 4.03942936, 3.72529928,\n",
       "        4.5125793 ]),\n",
       " 'y': array([[   60,   275,   256, ...,  3552,  4170,  9256],\n",
       "        [   47,   304,   184, ...,  9857,  8462,  7329],\n",
       "        [   36,   273,   124, ...,  2434,  2965,  5833],\n",
       "        ...,\n",
       "        [   73,    95,   177, ...,  4527,  5610,  9294],\n",
       "        [   57,    82,   121, ...,  5954, 20003, 18368],\n",
       "        [   72,   219,   340, ...,  8867,  7291,  4888]])}"
      ]
     },
     "execution_count": 29,
     "metadata": {},
     "output_type": "execute_result"
    }
   ],
   "source": [
    "negbin_ppc"
   ]
  },
  {
   "cell_type": "code",
   "execution_count": 30,
   "metadata": {},
   "outputs": [
    {
     "data": {
      "text/plain": [
       "(2000, 17)"
      ]
     },
     "execution_count": 30,
     "metadata": {},
     "output_type": "execute_result"
    }
   ],
   "source": [
    "negbin_ppc['y'].shape"
   ]
  },
  {
   "cell_type": "code",
   "execution_count": 31,
   "metadata": {},
   "outputs": [
    {
     "data": {
      "text/plain": [
       "[<matplotlib.lines.Line2D at 0x7fded65bf070>]"
      ]
     },
     "execution_count": 31,
     "metadata": {},
     "output_type": "execute_result"
    },
    {
     "data": {
      "image/png": "[encoded data removed]",
      "text/plain": [
       "<Figure size 640x480 with 1 Axes>"
      ]
     },
     "metadata": {},
     "output_type": "display_data"
    }
   ],
   "source": [
    "plt.plot(negbin_ppc['y'][47, :])"
   ]
  },
  {
   "cell_type": "markdown",
   "metadata": {},
   "source": [
    "In GLMs, we have the \"average prediction\" $\\bar{y} =$ InverseLinkFunction$(X\\beta)$, and then we have the actual predictions themselves, which are randomly distributed around this average, based on the chosen likelihood model.\n",
    "\n",
    "For example, suppose `year = 4`, the coefficient $\\beta_{year}$ is 0.23, and the intercept is 4.3. Then the average prediction $\\bar{y}$ for that year will be $\\exp(4 \\cdot 0.23 + 4.3)$:"
   ]
  },
  {
   "cell_type": "code",
   "execution_count": 32,
   "metadata": {},
   "outputs": [
    {
     "data": {
      "text/plain": [
       "184.9341840706834"
      ]
     },
     "execution_count": 32,
     "metadata": {},
     "output_type": "execute_result"
    }
   ],
   "source": [
    "np.exp(4 * 0.23 + 4.3)"
   ]
  },
  {
   "cell_type": "markdown",
   "metadata": {},
   "source": [
    "or, about 184 turbines. The actual distribution for the number of turbines we actually observe will be a negative binomial with mean 184.9 (and variance estimated from the data).\n",
    "\n",
    "Note that there is uncertainty in the average prediction too: the coefficient 0.23 in the example above could have been different. So, it's important to track our uncertainty at two levels:\n",
    "\n",
    "* The uncertainty for the average prediction at each point (we'll also call this the 'regression output') reflects how uncertain we are about the coefficients, and what that means for the average prediction\n",
    "* The uncertainty for the actual observed data reflects how much variation around the mean we should expect based on our data."
   ]
  },
  {
   "cell_type": "markdown",
   "metadata": {},
   "source": [
    "### Plot posterior predictive distribution for each model"
   ]
  },
  {
   "cell_type": "code",
   "execution_count": 33,
   "metadata": {},
   "outputs": [],
   "source": [
    "def compute_avg_prediction(ppc):\n",
    "    linear_part = np.outer(ppc[\"year\"], ok_turbines.year.values) + ppc[\"Intercept\"][:,np.newaxis]\n",
    "    return np.exp(linear_part)"
   ]
  },
  {
   "cell_type": "code",
   "execution_count": 34,
   "metadata": {},
   "outputs": [],
   "source": [
    "# Compute the posterior regression function (y hat values) for each model\n",
    "y_hat_poisson = compute_avg_prediction(poisson_ppc)\n",
    "y_hat_negbin = compute_avg_prediction(negbin_ppc)\n",
    "y_hat_gaussian = compute_avg_prediction(gaussian_ppc)\n",
    "y_hat_vals = [y_hat_poisson, y_hat_gaussian, y_hat_negbin]"
   ]
  },
  {
   "cell_type": "code",
   "execution_count": 35,
   "metadata": {},
   "outputs": [
    {
     "name": "stderr",
     "output_type": "stream",
     "text": [
      "/Users/eaman/opt/anaconda3/lib/python3.9/site-packages/arviz/plots/hdiplot.py:157: FutureWarning: hdi currently interprets 2d data as (draw, shape) but this will change in a future release to (chain, draw) for coherence with other functions\n",
      "  hdi_data = hdi(y, hdi_prob=hdi_prob, circular=circular, multimodal=False, **hdi_kwargs)\n",
      "/Users/eaman/opt/anaconda3/lib/python3.9/site-packages/arviz/plots/hdiplot.py:157: FutureWarning: hdi currently interprets 2d data as (draw, shape) but this will change in a future release to (chain, draw) for coherence with other functions\n",
      "  hdi_data = hdi(y, hdi_prob=hdi_prob, circular=circular, multimodal=False, **hdi_kwargs)\n"
     ]
    },
    {
     "data": {
      "image/png": "[encoded data removed]",
      "text/plain": [
       "<Figure size 600x600 with 1 Axes>"
      ]
     },
     "metadata": {},
     "output_type": "display_data"
    }
   ],
   "source": [
    "_, ax = plt.subplots(figsize = (6,6))\n",
    "\n",
    "ax.plot(ok_turbines.year, ok_turbines.totals, \"o\", ms=4, alpha=0.4, label=\"Data\")\n",
    "az.plot_hdi(\n",
    "    ok_turbines.year,\n",
    "    y_hat_poisson,\n",
    "    ax=ax,\n",
    "    hdi_prob=0.95,\n",
    "    fill_kwargs={\"alpha\": 0.8, \"label\": \"95% credible interval for avg prediction\"},\n",
    ")\n",
    "az.plot_hdi(\n",
    "    ok_turbines.year,\n",
    "    poisson_ppc[\"y\"],\n",
    "    ax=ax,\n",
    "    hdi_prob=0.95,\n",
    "    fill_kwargs={\"alpha\": 0.8, \"color\": \"#a1dab4\", \"label\": \"95% credible interval for actual ys\"},\n",
    ")\n",
    "\n",
    "ax.set_xlabel(\"Year\")\n",
    "ax.set_ylabel(\"Total turbines built\")\n",
    "ax.set_title(\"Posterior predictive checks (Poisson)\")\n",
    "ax.legend(fontsize=10);"
   ]
  },
  {
   "cell_type": "code",
   "execution_count": 36,
   "metadata": {},
   "outputs": [
    {
     "data": {
      "image/png": "[encoded data removed]",
      "text/plain": [
       "<Figure size 1500x750 with 3 Axes>"
      ]
     },
     "metadata": {},
     "output_type": "display_data"
    }
   ],
   "source": [
    "_, ax = plt.subplots(1,3, figsize = (15,7.5), dpi=100)\n",
    "names = [\"Poisson\", \"Gaussian\", \"Negative binomial\"]\n",
    "\n",
    "for idx, ppc in enumerate([poisson_ppc, gaussian_ppc, negbin_ppc]):\n",
    "    ax[idx].plot(ok_turbines.year, ok_turbines.totals, \"o\", ms=4, alpha=0.4, label=\"Data\")\n",
    "    az.plot_hdi(\n",
    "        ok_turbines.year,\n",
    "        y_hat_vals[idx],\n",
    "        ax=ax[idx],\n",
    "        hdi_prob=0.95,\n",
    "        fill_kwargs={\"alpha\": 0.8, \"label\": \"95% credible interval for avg prediction\"},\n",
    "    )\n",
    "    if idx==1:\n",
    "        pp_y = np.exp(ppc[\"y\"])\n",
    "    else:\n",
    "        pp_y = ppc[\"y\"]\n",
    "    az.plot_hdi(\n",
    "        ok_turbines.year,\n",
    "        pp_y,\n",
    "        ax=ax[idx],\n",
    "        hdi_prob=0.95,\n",
    "        fill_kwargs={\"alpha\": 0.8, \"color\": \"#a1dab4\", \"label\": \"95% credible interval for actual ys\"},\n",
    "    )\n",
    "\n",
    "    ax[idx].set_xlabel(\"Year\")\n",
    "    ax[idx].set_ylabel(\"Total turbines built\")\n",
    "    ax[idx].set_title(names[idx])\n",
    "    ax[idx].legend(fontsize=10)\n",
    "    ax[idx].set_ylim(-100, 90000)\n",
    "plt.tight_layout()"
   ]
  }
 ],
 "metadata": {
  "kernelspec": {
   "display_name": "Python 3 (ipykernel)",
   "language": "python",
   "name": "python3"
  },
  "language_info": {
   "codemirror_mode": {
    "name": "ipython",
    "version": 3
   },
   "file_extension": ".py",
   "mimetype": "text/x-python",
   "name": "python",
   "nbconvert_exporter": "python",
   "pygments_lexer": "ipython3",
   "version": "3.9.13"
  }
 },
 "nbformat": 4,
 "nbformat_minor": 4
}
